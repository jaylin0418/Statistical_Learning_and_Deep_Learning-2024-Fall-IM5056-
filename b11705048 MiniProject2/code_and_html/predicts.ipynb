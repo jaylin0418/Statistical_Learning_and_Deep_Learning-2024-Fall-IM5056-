{
  "cells": [
    {
      "cell_type": "markdown",
      "metadata": {},
      "source": [
        "本檔案會產生最後的預測檔案：`test_predictions_ensemble_mixed2.csv`。流程如下：\n",
        "\n",
        "1. 首先，我會利用已經訓練好的 ResNet50 模型，對 `test` 資料夾中的所有圖片進行預測，並將預測結果存成 `inference_results_resnet50_dropout.csv`。\n",
        "\n",
        "2. 接著，透過已經訓練好的 Swin Transformer 模型，對 `test` 資料夾中的所有圖片進行預測，並將預測結果存成 `inference_results_swin.csv`。\n",
        "\n",
        "3. 最終，我會將這兩個模型的預測結果進行加權平均，並將結果存成 `test_predictions_ensemble_mixed2.csv`。\n",
        "\n",
        "Inference 所需要的模型可以分別透過 `training_resnet50_dropout.ipynb` 和 `training_swin.ipynb` 產生。"
      ]
    },
    {
      "cell_type": "code",
      "execution_count": 2,
      "metadata": {
        "colab": {
          "base_uri": "https://localhost:8080/"
        },
        "id": "raPnw_W8_Ugw",
        "outputId": "3bd1a14a-78d3-4589-dce4-6149cb1123f1"
      },
      "outputs": [
        {
          "name": "stdout",
          "output_type": "stream",
          "text": [
            "Requirement already satisfied: torch in /usr/local/lib/python3.10/dist-packages (2.5.1+cu121)\n",
            "Requirement already satisfied: filelock in /usr/local/lib/python3.10/dist-packages (from torch) (3.16.1)\n",
            "Requirement already satisfied: typing-extensions>=4.8.0 in /usr/local/lib/python3.10/dist-packages (from torch) (4.12.2)\n",
            "Requirement already satisfied: networkx in /usr/local/lib/python3.10/dist-packages (from torch) (3.4.2)\n",
            "Requirement already satisfied: jinja2 in /usr/local/lib/python3.10/dist-packages (from torch) (3.1.4)\n",
            "Requirement already satisfied: fsspec in /usr/local/lib/python3.10/dist-packages (from torch) (2024.10.0)\n",
            "Requirement already satisfied: sympy==1.13.1 in /usr/local/lib/python3.10/dist-packages (from torch) (1.13.1)\n",
            "Requirement already satisfied: mpmath<1.4,>=1.1.0 in /usr/local/lib/python3.10/dist-packages (from sympy==1.13.1->torch) (1.3.0)\n",
            "Requirement already satisfied: MarkupSafe>=2.0 in /usr/local/lib/python3.10/dist-packages (from jinja2->torch) (3.0.2)\n"
          ]
        },
        {
          "name": "stderr",
          "output_type": "stream",
          "text": [
            "/usr/local/lib/python3.10/dist-packages/torch/utils/data/dataloader.py:617: UserWarning: This DataLoader will create 4 worker processes in total. Our suggested max number of worker in current system is 2, which is smaller than what this DataLoader is going to create. Please be aware that excessive worker creation might get DataLoader running slow or even freeze, lower the worker number to avoid potential slowness/freeze if necessary.\n",
            "  warnings.warn(\n",
            "/usr/local/lib/python3.10/dist-packages/torchvision/models/_utils.py:208: UserWarning: The parameter 'pretrained' is deprecated since 0.13 and may be removed in the future, please use 'weights' instead.\n",
            "  warnings.warn(\n",
            "/usr/local/lib/python3.10/dist-packages/torchvision/models/_utils.py:223: UserWarning: Arguments other than a weight enum or `None` for 'weights' are deprecated since 0.13 and may be removed in the future. The current behavior is equivalent to passing `weights=None`.\n",
            "  warnings.warn(msg)\n",
            "<ipython-input-2-a8eff618d77d>:68: FutureWarning: You are using `torch.load` with `weights_only=False` (the current default value), which uses the default pickle module implicitly. It is possible to construct malicious pickle data which will execute arbitrary code during unpickling (See https://github.com/pytorch/pytorch/blob/main/SECURITY.md#untrusted-models for more details). In a future release, the default value for `weights_only` will be flipped to `True`. This limits the functions that could be executed during unpickling. Arbitrary objects will no longer be allowed to be loaded via this mode unless they are explicitly allowlisted by the user via `torch.serialization.add_safe_globals`. We recommend you start setting `weights_only=True` for any use case where you don't have full control of the loaded file. Please open an issue on GitHub for any issues related to this experimental feature.\n",
            "  model.load_state_dict(torch.load(model_path, map_location=device))\n",
            "Predicting: 100%|██████████| 275/275 [07:17<00:00,  1.59s/it]\n"
          ]
        },
        {
          "name": "stdout",
          "output_type": "stream",
          "text": [
            "結果保存至 'inference_results_resnet50_dropout.csv'。\n"
          ]
        }
      ],
      "source": [
        "import pandas as pd\n",
        "import numpy as np\n",
        "import torch\n",
        "from torch.utils.data import DataLoader\n",
        "from torchvision import transforms\n",
        "from torchvision import models\n",
        "import torch.nn as nn\n",
        "from tqdm import tqdm\n",
        "\n",
        "from datasets import TestDataset\n",
        "import json\n",
        "import os\n",
        "\n",
        "class MultiLabelResNet50(nn.Module):\n",
        "    def __init__(self, num_classes, pretrained=False):\n",
        "        super(MultiLabelResNet50, self).__init__()\n",
        "        self.model = models.resnet50(pretrained=pretrained)\n",
        "        in_features = self.model.fc.in_features\n",
        "        self.model.fc = nn.Sequential(\n",
        "            nn.Dropout(p=0.5),  # 添加 Dropout 层\n",
        "            nn.Linear(in_features, num_classes)\n",
        "        )\n",
        "\n",
        "    def forward(self, x):\n",
        "        x = self.model(x)\n",
        "        return x\n",
        "\n",
        "def main():\n",
        "    if not os.path.exists('class_mapping.json'):\n",
        "        print(\"错误: 'class_mapping.json' 文件不存在。\")\n",
        "        return\n",
        "\n",
        "    with open('class_mapping.json', 'r') as f:\n",
        "        class_mapping = json.load(f)\n",
        "\n",
        "    num_classes = len(class_mapping)\n",
        "    class_names = [f'class_{i}' for i in range(num_classes)]\n",
        "\n",
        "    test_transforms = transforms.Compose([\n",
        "        transforms.Resize((224, 224)),\n",
        "        transforms.ToTensor(),\n",
        "        transforms.Normalize([0.485, 0.456, 0.406], [0.229, 0.224, 0.225])\n",
        "    ])\n",
        "\n",
        "    test_data_dir = 'test_data'\n",
        "    if not os.path.exists(test_data_dir):\n",
        "        print(f\"'{test_data_dir}' 不存在。\")\n",
        "        return\n",
        "\n",
        "    test_dataset = TestDataset(img_dir=test_data_dir, transform=test_transforms)\n",
        "    test_loader = DataLoader(\n",
        "        test_dataset,\n",
        "        batch_size=32,\n",
        "        shuffle=False,\n",
        "        num_workers=4,\n",
        "        pin_memory=True\n",
        "    )\n",
        "\n",
        "    device = torch.device(\"cuda\" if torch.cuda.is_available() else \"cpu\")\n",
        "    model = MultiLabelResNet50(num_classes=num_classes, pretrained=False).to(device)\n",
        "\n",
        "    model_path = 'model_epoch_39.pth'\n",
        "    if not os.path.exists(model_path):\n",
        "        print(f\"'{model_path}' 不存在。\")\n",
        "        return\n",
        "\n",
        "    model.load_state_dict(torch.load(model_path, map_location=device))\n",
        "    model.eval()\n",
        "\n",
        "    predictions = []\n",
        "    filenames = []\n",
        "\n",
        "    with torch.no_grad():\n",
        "        for batch in tqdm(test_loader, desc=\"Predicting\"):\n",
        "            batch_filenames, inputs = batch\n",
        "            inputs = inputs.to(device)\n",
        "\n",
        "            outputs = model(inputs)\n",
        "            probs = torch.sigmoid(outputs).cpu().numpy()\n",
        "\n",
        "            predictions.append(probs)\n",
        "            filenames.extend(batch_filenames)\n",
        "\n",
        "    if predictions:\n",
        "        predictions = np.vstack(predictions)\n",
        "        results_df = pd.DataFrame(predictions, columns=class_names)\n",
        "        results_df.insert(0, 'filename', filenames)\n",
        "    else:\n",
        "        print(\"錯誤：無法生成預測結果\")\n",
        "        return\n",
        "\n",
        "    # 保存预测结果为 CSV 文件\n",
        "    output_csv = 'inference_results_resnet50_dropout.csv'\n",
        "    results_df.to_csv(output_csv, index=False)\n",
        "    print(f\"結果保存至 '{output_csv}'。\")\n",
        "\n",
        "if __name__ == '__main__':\n",
        "    main()\n"
      ]
    },
    {
      "cell_type": "code",
      "execution_count": 3,
      "metadata": {
        "colab": {
          "base_uri": "https://localhost:8080/"
        },
        "id": "aqcYeqWLzbeD",
        "outputId": "6491b8f1-83a1-47bc-a012-d5301d9c903a"
      },
      "outputs": [
        {
          "name": "stdout",
          "output_type": "stream",
          "text": [
            "Number of test samples: 8784\n",
            "Using device: cuda\n"
          ]
        },
        {
          "name": "stderr",
          "output_type": "stream",
          "text": [
            "/usr/local/lib/python3.10/dist-packages/torch/utils/data/dataloader.py:617: UserWarning: This DataLoader will create 4 worker processes in total. Our suggested max number of worker in current system is 2, which is smaller than what this DataLoader is going to create. Please be aware that excessive worker creation might get DataLoader running slow or even freeze, lower the worker number to avoid potential slowness/freeze if necessary.\n",
            "  warnings.warn(\n",
            "<ipython-input-3-de03d45b508a>:118: FutureWarning: You are using `torch.load` with `weights_only=False` (the current default value), which uses the default pickle module implicitly. It is possible to construct malicious pickle data which will execute arbitrary code during unpickling (See https://github.com/pytorch/pytorch/blob/main/SECURITY.md#untrusted-models for more details). In a future release, the default value for `weights_only` will be flipped to `True`. This limits the functions that could be executed during unpickling. Arbitrary objects will no longer be allowed to be loaded via this mode unless they are explicitly allowlisted by the user via `torch.serialization.add_safe_globals`. We recommend you start setting `weights_only=True` for any use case where you don't have full control of the loaded file. Please open an issue on GitHub for any issues related to this experimental feature.\n",
            "  model.load_state_dict(torch.load(model_path, map_location=device))\n"
          ]
        },
        {
          "name": "stdout",
          "output_type": "stream",
          "text": [
            "Loaded model weights from model_epoch_56_swin_no_freeze.pth\n"
          ]
        },
        {
          "name": "stderr",
          "output_type": "stream",
          "text": [
            "推論中: 100%|██████████| 138/138 [03:08<00:00,  1.37s/it]\n"
          ]
        },
        {
          "name": "stdout",
          "output_type": "stream",
          "text": [
            "推論結果已保存至 inference_results_swin.csv\n"
          ]
        }
      ],
      "source": [
        "import os\n",
        "import json\n",
        "import numpy as np\n",
        "import pandas as pd\n",
        "import torch\n",
        "import torch.nn as nn\n",
        "from torch.utils.data import DataLoader, Dataset\n",
        "from torchvision import transforms\n",
        "from PIL import Image\n",
        "from tqdm import tqdm\n",
        "from timm import create_model\n",
        "import torch.nn.functional as F\n",
        "\n",
        "class MultiLabelSwinTransformer(nn.Module):\n",
        "    def __init__(self, num_classes, pretrained=True, freeze_layers=False):\n",
        "        super(MultiLabelSwinTransformer, self).__init__()\n",
        "        # 使用 Swin Base (224×224)\n",
        "        self.model = create_model(\n",
        "            'swin_base_patch4_window7_224',\n",
        "            pretrained=pretrained\n",
        "        )\n",
        "        in_features = self.model.head.in_features\n",
        "        self.model.head = nn.Identity()\n",
        "\n",
        "        self.classifier = nn.Sequential(\n",
        "            nn.Dropout(p=0.5),\n",
        "            nn.Linear(in_features, num_classes)\n",
        "        )\n",
        "\n",
        "        if freeze_layers:\n",
        "            for name, param in self.model.named_parameters():\n",
        "                if \"layers.0\" in name or \"layers.1\" in name:\n",
        "                    param.requires_grad = False\n",
        "\n",
        "    def forward(self, x):\n",
        "        # x shape: [batch_size, 3, 224, 224]\n",
        "\n",
        "        x = self.model.forward_features(x)\n",
        "        # 此時 x shape: [batch_size, 7, 7, 1024]\n",
        "\n",
        "        x = x.permute(0, 3, 1, 2)\n",
        "        # 現在 x shape: [batch_size, 1024, 7, 7]\n",
        "\n",
        "        x = F.adaptive_avg_pool2d(x, (1, 1))\n",
        "        # shape: [batch_size, 1024, 1, 1]\n",
        "\n",
        "        x = x.flatten(1)\n",
        "        # shape: [batch_size, 1024]\n",
        "\n",
        "        x = self.classifier(x)\n",
        "        return x\n",
        "\n",
        "class InferenceDataset(Dataset):\n",
        "    def __init__(self, img_dir, filenames, transform=None):\n",
        "\n",
        "        self.img_dir = img_dir\n",
        "        self.filenames = filenames\n",
        "        self.transform = transform\n",
        "\n",
        "    def __len__(self):\n",
        "        return len(self.filenames)\n",
        "\n",
        "    def __getitem__(self, idx):\n",
        "        img_name = self.filenames[idx]\n",
        "        img_path = os.path.join(self.img_dir, img_name)\n",
        "        image = Image.open(img_path).convert('RGB')\n",
        "        if self.transform:\n",
        "            image = self.transform(image)\n",
        "        return image, img_name\n",
        "\n",
        "\n",
        "def main():\n",
        "    with open('class_mapping.json', 'r', encoding='utf-8') as f:\n",
        "        class_mapping = json.load(f)\n",
        "    num_classes = len(class_mapping)\n",
        "    class_names = list(class_mapping.keys())\n",
        "\n",
        "    test_dir = 'test_data'\n",
        "    test_filenames = [f for f in os.listdir(test_dir) if f.lower().endswith(('.png', '.jpg', '.jpeg'))]\n",
        "    test_filenames.sort()\n",
        "\n",
        "    print(f\"Number of test samples: {len(test_filenames)}\")\n",
        "\n",
        "    # 定義圖像轉換 (與訓練時相同，但通常不需要數據增強)\n",
        "    test_transforms = transforms.Compose([\n",
        "        transforms.Resize((224, 224)),\n",
        "        transforms.ToTensor(),\n",
        "        transforms.Normalize([0.485, 0.456, 0.406],\n",
        "                             [0.229, 0.224, 0.225]),\n",
        "    ])\n",
        "\n",
        "    test_dataset = InferenceDataset(\n",
        "        img_dir=test_dir,\n",
        "        filenames=test_filenames,\n",
        "        transform=test_transforms\n",
        "    )\n",
        "\n",
        "    test_loader = DataLoader(\n",
        "        test_dataset,\n",
        "        batch_size=64,\n",
        "        shuffle=False,\n",
        "        num_workers=4,\n",
        "        pin_memory=True\n",
        "    )\n",
        "\n",
        "    device = torch.device(\"cuda\" if torch.cuda.is_available() else \"cpu\")\n",
        "    print(\"Using device:\", device)\n",
        "\n",
        "    model = MultiLabelSwinTransformer(\n",
        "        num_classes=num_classes,\n",
        "        pretrained=False,\n",
        "        freeze_layers=False\n",
        "    ).to(device)\n",
        "\n",
        "    model_path = 'model_epoch_56_swin_no_freeze.pth'\n",
        "    if not os.path.exists(model_path):\n",
        "        raise FileNotFoundError(f\"模型檔案 {model_path} 不存在。請確認路徑是否正確。\")\n",
        "    model.load_state_dict(torch.load(model_path, map_location=device))\n",
        "    model.eval()\n",
        "    print(f\"Loaded model weights from {model_path}\")\n",
        "\n",
        "    all_filenames = []\n",
        "    all_probs = []\n",
        "\n",
        "    with torch.no_grad():\n",
        "        for inputs, filenames in tqdm(test_loader, desc=\"推論中\"):\n",
        "            inputs = inputs.to(device)\n",
        "            outputs = model(inputs)\n",
        "            probs = torch.sigmoid(outputs).cpu().numpy()\n",
        "            all_filenames.extend(filenames)\n",
        "            all_probs.append(probs)\n",
        "\n",
        "    all_probs = np.vstack(all_probs)\n",
        "\n",
        "    results_df = pd.DataFrame(all_probs, columns=class_names)\n",
        "    results_df.insert(0, 'filename', all_filenames)\n",
        "\n",
        "    output_csv = 'inference_results_swin.csv'\n",
        "    results_df.to_csv(output_csv, index=False)\n",
        "    print(f\"推論結果已保存至 {output_csv}\")\n",
        "\n",
        "if __name__ == '__main__':\n",
        "    main()\n"
      ]
    },
    {
      "cell_type": "code",
      "execution_count": 4,
      "metadata": {
        "colab": {
          "base_uri": "https://localhost:8080/"
        },
        "id": "t_VrwAUuWJ7P",
        "outputId": "66c9d9a8-a37f-40c5-a4e4-dc0890585524"
      },
      "outputs": [
        {
          "name": "stdout",
          "output_type": "stream",
          "text": [
            "Averaged ensemble predictions saved to 'test_predictions_ensemble_mixed2.csv'.\n"
          ]
        }
      ],
      "source": [
        "import pandas as pd\n",
        "\n",
        "df_resnet50 = pd.read_csv('inference_results_resnet50_dropout.csv')\n",
        "df_do = pd.read_csv('inference_results_swin.csv')\n",
        "\n",
        "assert df_do.shape == df_resnet50.shape, \"DataFrames have different shapes!\"\n",
        "\n",
        "df_numeric_avg = (df_do.select_dtypes(include='number') + df_resnet50.select_dtypes(include='number')) / 2\n",
        "df_non_numeric = df_do.select_dtypes(exclude='number')\n",
        "\n",
        "df = pd.concat([df_non_numeric, df_numeric_avg], axis=1)\n",
        "\n",
        "df.to_csv('test_predictions_ensemble_mixed2.csv', index=False)\n",
        "print(\"Averaged ensemble predictions saved to 'test_predictions_ensemble_mixed2.csv'.\")"
      ]
    }
  ],
  "metadata": {
    "accelerator": "GPU",
    "colab": {
      "gpuType": "T4",
      "provenance": []
    },
    "kernelspec": {
      "display_name": "Python 3",
      "name": "python3"
    },
    "language_info": {
      "codemirror_mode": {
        "name": "ipython",
        "version": 3
      },
      "file_extension": ".py",
      "mimetype": "text/x-python",
      "name": "python",
      "nbconvert_exporter": "python",
      "pygments_lexer": "ipython3",
      "version": "3.12.2"
    }
  },
  "nbformat": 4,
  "nbformat_minor": 0
}
