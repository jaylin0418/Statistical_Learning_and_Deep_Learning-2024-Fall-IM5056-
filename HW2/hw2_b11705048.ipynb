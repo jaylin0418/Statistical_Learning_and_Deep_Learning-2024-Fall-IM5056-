{
 "cells": [
  {
   "cell_type": "markdown",
   "metadata": {},
   "source": [
    "### 統計學習與深度學習 (Fall, 2024)\n",
    "### Homework 2\n",
    "\n",
    "請將IPYNB檔與IPYNB Export之HTML檔上傳至COOL作業區。作業自己做。嚴禁抄襲。不接受紙本繳交，不接受遲交。請以英文或中文作答。\n",
    "如無其他規定，所有重要結果應顯示至小數點第四位(四捨五入)。本次作業禁止使用Auto-SKlearn或其他AutoML工具。題目可能有額外實做限制。違反規定者該題以零分計算。\n"
   ]
  },
  {
   "cell_type": "markdown",
   "metadata": {},
   "source": [
    "#### 作者：資管三（B11705048）林杰"
   ]
  },
  {
   "cell_type": "markdown",
   "metadata": {},
   "source": [
    "### 第一題[Logistic Regression: Probability, Loss, Gradient, and Weights]\n",
    "\n",
    "Logistic regression (LR) 是一個常用的分類模型。我們將在這個題目中透過練習熟悉一些LR的細節與特性。\n",
    "\n",
    "本題將利用UCI的\"Adult\" dataset <https://archive.ics.uci.edu/ml/datasets/Adult>來練習資料前處理。我們使用這個資料集的方式是用來建構預測最後一個收入欄位是'>50K'或'<=50K'。這個資料集已經先切好了Training跟Test。Training又切分為Subtraining與Validation兩個不重疊的集合。\n",
    "\n",
    "請直接使用作業附帶的資料檔 **adult_m50kv2.pickle**。讀取的方式為:"
   ]
  },
  {
   "cell_type": "code",
   "execution_count": 306,
   "metadata": {},
   "outputs": [],
   "source": [
    "import pickle\n",
    "dsfile = 'adult_m50kv2.pickle'\n",
    "with open(dsfile, 'rb') as fh1:\n",
    "    adult50kp = pickle.load(fh1)"
   ]
  },
  {
   "cell_type": "markdown",
   "metadata": {},
   "source": [
    "這是一個Dictionary結構，Keys有:"
   ]
  },
  {
   "cell_type": "code",
   "execution_count": 307,
   "metadata": {},
   "outputs": [
    {
     "data": {
      "text/plain": [
       "dict_keys(['x_train', 'y_train', 'x_test', 'y_test', 'columnname', 'num_col', 'x_subtrain', 'x_subvalid', 'y_subtrain', 'y_subvalid', 'x_subtrain_ib', 'y_subtrain_ib'])"
      ]
     },
     "execution_count": 307,
     "metadata": {},
     "output_type": "execute_result"
    }
   ],
   "source": [
    "adult50kp.keys()"
   ]
  },
  {
   "cell_type": "markdown",
   "metadata": {},
   "source": [
    "其中x_train與y_train為訓練資料，x_test與y_test為測試資料，columname為欄位名稱，\n",
    "x_subtrain與y_subtrain為Subtraining, x_subvalid與y_subvalid為validation資料集。\n",
    "\n",
    "本題的任務如下:\n",
    "\n",
    "**第一小題** (10%): 實做一個pred_prob函數。這個函數的輸入為資料矩陣、LR的常數項係數與特徵係數，輸出在給定係數下LR對各資料點預測屬於各Class的機率。本題為Binary Classification, 因此第一個Column為Class 0, 第二個Column為Class 1的機率。一般而言，Class 1稱為Postive Class, Class 0 稱為Negative Class。本題>50K為Positive Class。本題禁止直接使用sklearn中的實做。你應該使用Numpy建構此函數。然而，你可以參考sklearn中對此函數的定義<https://scikit-learn.org/1.5/modules/linear_model.html#binary-case>。你的實做應與此文件一致。\n",
    "\n",
    "請使用下面Python函數定義:\n",
    "\n",
    "```python\n",
    "def pred_prob(X, intercept, coefs, twocol = True):\n",
    "    # Implement your own probability function to predict \n",
    "    # the probability in binary logistic regression\n",
    "\n",
    "```\n",
    "\n",
    "其中`X`為特徵矩陣，每一個row為一筆資料，不包含常數項。\n",
    "`intercept`為LR的常數項係數。\n",
    "`coefs`為 K X 1 的係數Numpy向量。\n",
    "`twocol`為 Boolean。如True則回傳的機率矩陣為N X 2, 第一個Column為P(Y=0 | X) 第二個Column為P(Y=1 | X)。如False則回傳N X 1矩陣的P(Y=1 | X)。"
   ]
  },
  {
   "cell_type": "markdown",
   "metadata": {},
   "source": [
    "#### Problem 1-(1)\n",
    "根據題目中提供的文件，預測機率的公式：$\\hat{p}(X_i) = \\text{expit}(X_i w + w_0) = \\frac{1}{1 + \\exp(-X_i w - w_0)}.$。我運用 Numpy 實作該公式。在 Sanity Check 中可以發現和助教提供的答案符合。"
   ]
  },
  {
   "cell_type": "code",
   "execution_count": 308,
   "metadata": {},
   "outputs": [],
   "source": [
    "import numpy as np # type: ignore"
   ]
  },
  {
   "cell_type": "code",
   "execution_count": 309,
   "metadata": {},
   "outputs": [],
   "source": [
    "def pred_prob(X, intercept, coefs, twocol = True):\n",
    "    # X: data matrix\n",
    "    # intercept: constant term\n",
    "    # coefs: feature coefficients\n",
    "    # twocol: True if the output should be two columns (default), False if the output should be one column\n",
    "    z = np.dot(X, coefs) + intercept\n",
    "    prob = 1 / (1 + np.exp(-z))\n",
    "    if twocol:\n",
    "        return np.column_stack((1 - prob, prob))\n",
    "    else:\n",
    "        return prob"
   ]
  },
  {
   "cell_type": "markdown",
   "metadata": {},
   "source": [
    "**第二小題** (15%): 實做LR with L2 Regularization的Loss Function。\n",
    "\n",
    "此Loss Function的定義如下\n",
    "\n",
    "$\\frac{1}{S} \\sum_{i=1}^{n} -s_i(y_i log(p(X_i) + (1 - y_i) log(1 - p(X_i)) + \\frac{1}{2} \\frac{w^T w}{S \\cdot  C}  $\n",
    "\n",
    "其中$P(X_i)$為LR在目前參數下預測資料點$i$為Positive Class的機率。\n",
    "$w$為參數向量(不包含常數項係數)。\n",
    "$s_i$為資料點$i$的全重，$s_i = 1$。\n",
    "$S = \\sum_{i=1}^N s_i$。\n",
    "$C$ 為Regularization Coefficient，數值越大則對係數的牽制越小(與課程投影片定義不同)。\n",
    "\n",
    "本題禁止直接使用sklearn中的實做。你應該使用Numpy建構此函數。然而，你可以參考sklearn中對此函數的定義<https://scikit-learn.org/1.5/modules/linear_model.html#binary-case>。你的實做應與此文件一致。\n",
    "\n",
    "請使用下面Python函數定義:\n",
    "\n",
    "```python\n",
    "def lr_logloss(Xtrain, ytrain, intercept, coefs, C):\n",
    "    # Implement your own loss function for\n",
    "    # Logistic Regression with L2 regularization\n",
    "    \n",
    "```\n",
    "\n",
    "其中`Xtrain`為特徵矩陣，每一個row為一筆資料，不包含常數項。\n",
    "`ytrain`為class label, 數值應為0或1。\n",
    "`intercept`為LR的常數項係數。\n",
    "`coefs`為 K X 1 的係數Numpy向量。\n",
    "`C`為regularization coefficient。"
   ]
  },
  {
   "cell_type": "markdown",
   "metadata": {},
   "source": [
    "#### Problem 1-(2)\n",
    "Loss Function: $\\frac{1}{S} \\sum_{i=1}^{n} -s_i(y_i log(p(X_i)) + (1 - y_i) log(1 - p(X_i))) + \\frac{1}{2} \\frac{w^T w}{S \\cdot  C}$\n",
    "\n",
    "我運用 Numpy 實作該 Loss Function。在 Sanity Check 中可以發現和助教提供的答案符合。"
   ]
  },
  {
   "cell_type": "code",
   "execution_count": 310,
   "metadata": {},
   "outputs": [],
   "source": [
    "def lr_logloss(Xtrain, ytrain, intercept, coefs, C):\n",
    "    # Calculate log loss\n",
    "    n = ytrain.shape[0]\n",
    "    log_loss = []\n",
    "    for i in range(n):\n",
    "        probability = 1 / (1 + np.exp(-Xtrain[i] @ coefs - intercept))\n",
    "        probability = max(min(probability, 1 - 10**(-15)), 10**(-15))\n",
    "        log_loss.append(-ytrain[i] * np.log(probability) - (1 - ytrain[i]) * np.log(1 - probability))\n",
    "\n",
    "    log_loss = np.mean(log_loss) \n",
    "    log_loss += np.float64(((np.sum(coefs ** 2)) / (2* C * n)))\n",
    "    return log_loss"
   ]
  },
  {
   "cell_type": "markdown",
   "metadata": {},
   "source": [
    "**第三小題** (10%): \n",
    "\n",
    "(1) 使用 sklearn.linear_model.LogisticRegression()與Sub-training 資料集學習LR參數，印出Intercept與各特徵名稱與係數。(2) 將學好的模型應用在Test Dataset，計算Accuracy, Recall, Precision, F1。可使用sklearn實做。務必在最後具體說明題目所要計算的數值。請勿只印出sklearn的output。"
   ]
  },
  {
   "cell_type": "markdown",
   "metadata": {},
   "source": [
    "#### Problem 1-(3)\n",
    "以下程式碼印出 Intercept 與各特徵名稱與係數。\n",
    "\n",
    "題目所要求的其他指標如下：\n",
    "- Accuracy: 0.8481\n",
    "- Precision: 0.7298\n",
    "- Recall: 0.6065\n",
    "- F1 Score: 0.6624\n"
   ]
  },
  {
   "cell_type": "code",
   "execution_count": 311,
   "metadata": {},
   "outputs": [
    {
     "name": "stdout",
     "output_type": "stream",
     "text": [
      " capital-loss: 0.2579\n",
      " hours-per-week: 0.3538\n",
      " capital-gain: 2.3791\n",
      " educational-num: 0.7372\n",
      " age: 0.3391\n",
      " fnlwgt: 0.08\n",
      " relationship_Husband: -0.3763\n",
      " relationship_Not-in-family: 0.0474\n",
      " relationship_Other-relative: -0.8593\n",
      " relationship_Own-child: -1.0689\n",
      " relationship_Unmarried: -0.0757\n",
      " relationship_Wife: 0.9779\n",
      " race_Amer-Indian-Eskimo: -0.7817\n",
      " race_Asian-Pac-Islander: 0.1903\n",
      " race_Black: -0.2559\n",
      " race_Other: -0.4089\n",
      " race_White: -0.0987\n",
      " gender_Female: -1.1329\n",
      " gender_Male: -0.222\n",
      " occupation_Adm-clerical: 0.1184\n",
      " occupation_Craft-repair: 0.1404\n",
      " occupation_Exec-managerial: 0.9253\n",
      " occupation_Farming-fishing: -0.9143\n",
      " occupation_Handlers-cleaners: -0.5785\n",
      " occupation_Machine-op-inspct: -0.1695\n",
      " occupation_Other-service: -0.6988\n",
      " occupation_Priv-house-serv: -2.2406\n",
      " occupation_Prof-specialty: 0.6108\n",
      " occupation_Protective-serv: 0.6474\n",
      " occupation_Sales: 0.4066\n",
      " occupation_Tech-support: 0.7981\n",
      " occupation_Transport-moving: 0.0374\n",
      " education_10th: -0.0469\n",
      " education_11th: -0.1537\n",
      " education_12th: -0.1073\n",
      " education_1st-4th: 0.8597\n",
      " education_5th-6th: 0.1461\n",
      " education_7th-8th: -0.0984\n",
      " education_9th: 0.0674\n",
      " education_Assoc-acdm: -0.5313\n",
      " education_Assoc-voc: -0.1834\n",
      " education_Bachelors: -0.2137\n",
      " education_Doctorate: 0.065\n",
      " education_HS-grad: -0.1504\n",
      " education_Masters: -0.1055\n",
      " education_Preschool: -1.0153\n",
      " education_Prof-school: 0.2261\n",
      " education_Some-college: -0.1135\n",
      " native-country_Cambodia: 1.2929\n",
      " native-country_Canada: 0.4292\n",
      " native-country_China: -0.4938\n",
      " native-country_Columbia: -1.8758\n",
      " native-country_Cuba: 0.5848\n",
      " native-country_Dominican-Republic: -1.2845\n",
      " native-country_Ecuador: -0.3631\n",
      " native-country_El-Salvador: -0.4183\n",
      " native-country_England: 0.6041\n",
      " native-country_France: 0.8563\n",
      " native-country_Germany: 0.5495\n",
      " native-country_Greece: -0.6464\n",
      " native-country_Guatemala: -0.1041\n",
      " native-country_Haiti: 0.7152\n",
      " native-country_Honduras: -0.1242\n",
      " native-country_Hong: -0.122\n",
      " native-country_Hungary: 0.3639\n",
      " native-country_India: -0.3883\n",
      " native-country_Iran: 0.2631\n",
      " native-country_Ireland: 0.5812\n",
      " native-country_Italy: 1.0933\n",
      " native-country_Jamaica: 0.3662\n",
      " native-country_Japan: 0.5673\n",
      " native-country_Laos: 0.0479\n",
      " native-country_Mexico: -0.3175\n",
      " native-country_Nicaragua: -0.2855\n",
      " native-country_Outlying-US(Guam-USVI-etc): -0.6956\n",
      " native-country_Peru: -0.5263\n",
      " native-country_Philippines: 0.2507\n",
      " native-country_Poland: 0.1622\n",
      " native-country_Portugal: -0.3042\n",
      " native-country_Puerto-Rico: -0.2582\n",
      " native-country_Scotland: 0.1116\n",
      " native-country_South: -1.3406\n",
      " native-country_Taiwan: -0.2052\n",
      " native-country_Thailand: -0.403\n",
      " native-country_Trinadad&Tobago: -0.067\n",
      " native-country_United-States: 0.3829\n",
      " native-country_Vietnam: -0.9992\n",
      " native-country_Yugoslavia: 0.6589\n",
      " workclass_Federal-gov: 0.5285\n",
      " workclass_Local-gov: -0.1164\n",
      " workclass_Private: 0.0429\n",
      " workclass_Self-emp-inc: 0.2031\n",
      " workclass_Self-emp-not-inc: -0.4507\n",
      " workclass_State-gov: -0.2976\n",
      " workclass_Without-pay: -1.2647\n",
      " marital-status_Divorced: -0.8397\n",
      " marital-status_Married-AF-spouse: 2.05\n",
      " marital-status_Married-civ-spouse: 1.2146\n",
      " marital-status_Married-spouse-absent: -0.8211\n",
      " marital-status_Never-married: -1.359\n",
      " marital-status_Separated: -0.9517\n",
      " marital-status_Widowed: -0.6478\n",
      " Intercept: -1.3558\n"
     ]
    },
    {
     "data": {
      "text/plain": [
       "<bound method LinearClassifierMixin.decision_function of LogisticRegression(C=1000)>"
      ]
     },
     "execution_count": 311,
     "metadata": {},
     "output_type": "execute_result"
    }
   ],
   "source": [
    "from sklearn.linear_model import LogisticRegression # type: ignore\n",
    "clf0 = LogisticRegression(C = 1000)\n",
    "clf0.fit(adult50kp['x_subtrain'], adult50kp['y_subtrain'])\n",
    "column_names = adult50kp['columnname']\n",
    "column_coeffs = zip(column_names, clf0.coef_[0].round(4))\n",
    "\n",
    "for i in column_coeffs:\n",
    "    print(f\" {i[0]}: {i[1]}\")\n",
    "print(f\" Intercept: {clf0.intercept_[0].round(4)}\") \n",
    "\n",
    "clf0.decision_function"
   ]
  },
  {
   "cell_type": "code",
   "execution_count": 312,
   "metadata": {},
   "outputs": [
    {
     "name": "stdout",
     "output_type": "stream",
     "text": [
      "Accuracy: 0.8481\n",
      "Precision: 0.7298\n",
      "Recall: 0.6065\n",
      "F1 Score: 0.6624\n"
     ]
    }
   ],
   "source": [
    "# calculate accuracy, precision, recall, and F1 score\n",
    "from sklearn.metrics import accuracy_score, precision_score, recall_score, f1_score # type: ignore\n",
    "\n",
    "y_pred = clf0.predict(adult50kp['x_test'])\n",
    "y_true = adult50kp['y_test']\n",
    "accuracy = accuracy_score(y_true, y_pred)\n",
    "precision = precision_score(y_true, y_pred)\n",
    "recall = recall_score(y_true, y_pred)\n",
    "f1 = f1_score(y_true, y_pred)\n",
    "\n",
    "print(f\"Accuracy: {round(accuracy, 4)}\")\n",
    "print(f\"Precision: {round(precision, 4)}\")\n",
    "print(f\"Recall: {round(recall, 4)}\")\n",
    "print(f\"F1 Score: {round(f1, 4)}\")"
   ]
  },
  {
   "cell_type": "markdown",
   "metadata": {},
   "source": [
    "**第四小題** (10%): Loss function visualization。\n",
    "\n",
    "基於前一小題學習出的係數，(1) 畫出在目前Intercept 附近一單位的Loss Function (2) 畫出在目前係數零(capital-loss)附近一單位的Loss Function。\n",
    "\n",
    "注意: 由於前一個小題學習出的係數已經對Loss Function最小化，你畫出的圖應該都是U形曲線。\n"
   ]
  },
  {
   "cell_type": "markdown",
   "metadata": {},
   "source": [
    "#### Problem 1-(4)\n",
    "我畫出了目前 Intercept 附近一單位的Loss Function 以及在目前係數零 (capital-loss) 附近一單位的 Loss Function。確實都是 U 形曲線。"
   ]
  },
  {
   "cell_type": "code",
   "execution_count": 313,
   "metadata": {},
   "outputs": [
    {
     "data": {
      "image/png": "[encoded data removed]",
      "text/plain": [
       "<Figure size 640x480 with 1 Axes>"
      ]
     },
     "metadata": {},
     "output_type": "display_data"
    }
   ],
   "source": [
    "import matplotlib.pyplot as plt # type: ignore\n",
    "import math\n",
    "\n",
    "intercept = float(clf0.intercept_[0])\n",
    "\n",
    "loss = []\n",
    "intercept_range = np.linspace(intercept - 1, intercept + 1, 100)\n",
    "for i in intercept_range:\n",
    "    loss.append(lr_logloss(adult50kp['x_subtrain'], adult50kp['y_subtrain'], i, clf0.coef_[0], 1000))\n",
    "    \n",
    "plt.plot(intercept_range, loss)\n",
    "plt.xlabel('Intercept')\n",
    "\n",
    "plt.ylabel('Log Loss with L2 Regularization')\n",
    "plt.title('Log Loss vs. Intercept')\n",
    "plt.show()\n"
   ]
  },
  {
   "cell_type": "code",
   "execution_count": 314,
   "metadata": {},
   "outputs": [
    {
     "data": {
      "image/png": "[encoded data removed]",
      "text/plain": [
       "<Figure size 640x480 with 1 Axes>"
      ]
     },
     "metadata": {},
     "output_type": "display_data"
    }
   ],
   "source": [
    "loss = []\n",
    "coef_range = np.linspace(clf0.coef_[0][0] - 1, clf0.coef_[0][0] + 1, 100)\n",
    "for i in coef_range:\n",
    "    coeff = clf0.coef_[0]\n",
    "    coeff[0] = i\n",
    "    loss.append(lr_logloss(adult50kp['x_subtrain'], adult50kp['y_subtrain'], intercept, coeff, 1000))\n",
    "    \n",
    "plt.plot(coef_range, loss)\n",
    "plt.xlabel('Coefficient of Capital Loss')\n",
    "plt.ylabel('Log Loss with L2 Regularization')\n",
    "plt.title('Log Loss vs. Coefficient of Capital Loss')\n",
    "plt.show()"
   ]
  },
  {
   "cell_type": "markdown",
   "metadata": {},
   "source": [
    "#### Sanity Check\n",
    "\n",
    "為了幫助同學們自我檢測正確性，在這裡提供幾個關鍵步驟的參考結果。\n",
    "\n",
    "**第一小題**\n",
    "```python\n",
    "# load dataset\n",
    "dsfile = 'adult_m50kv2.pickle'\n",
    "with open(dsfile, 'rb') as fh1:\n",
    "    adult50kp = pickle.load(fh1)\n",
    "\n",
    "X = adult50kp['x_subtrain'][0:5,]\n",
    "intercept = -1.5272275\n",
    "coefs = [0.25950781,  0.34876602,  2.31873776 , 0.78736064,  0.33992389,  0.08704992,\n",
    "  -0.43884149,  0.06617491, -0.86784172, -1.14138298, -0.0430126,   0.89943298,\n",
    "  -0.91920029,  0.11168262, -0.20330975, -0.45255335, -0.06209014, -1.1973518,\n",
    "  -0.32811911,  0.15581135,  0.23931349,  0.97771987, -0.80849467, -0.48881008,\n",
    "  -0.05761483, -0.61597391, -3.01467409,  0.67615709,  0.82684249,  0.45561501,\n",
    "   0.78515056,  0.10471469,  0.03536166, -0.18042056, -0.1981496,   0.89739856,\n",
    "   0.72133736,  0.19974049,  0.02431812, -0.54957554, -0.23797782, -0.19134163,\n",
    "  -0.08962951, -0.13136345, -0.14984098, -1.82034863,  0.22178759, -0.07676697,\n",
    "   1.5654472,   0.4801181,  -0.45519986, -2.16013255,  0.56715199, -1.36568413,\n",
    "  -0.26013768, -0.34160994,  0.30455591,  0.98946547,  0.83849021, -0.55428539,\n",
    "  -0.01931975,  0.02875685, -0.22012367,  0.165938,    0.24587743, -0.49584621,\n",
    "   0.27129184,  0.6632467,   1.08311314,  0.355352,    0.23657114, -0.55244221,\n",
    "  -0.29776791, -0.51492492, -1.08493494, -0.83233382,  0.61660701,  0.38077523,\n",
    "   0.34522743,  0.10493796,  0.16957889, -0.91882431, -0.07844291, -0.12138313,\n",
    "  -0.13627414,  0.437241,   -1.40284695,  0.43730002,  0.64656827, -0.12873123,\n",
    "   0.12363191,  0.30820418, -0.37598606, -0.2384826,  -1.86067539, -0.92314978,\n",
    "   2.17438484,  1.28232608, -1.05960696, -1.35676708, -0.99932736, -0.64333065]\n",
    "\n",
    "coefs = np.array(coefs)\n",
    "coefs = coefs.reshape((-1, 1))\n",
    "pred_prob(X, intercept, coefs)\n",
    "```\n",
    "Output:\n",
    "```\n",
    "array([[0.85699649, 0.14300351],\n",
    "       [0.84396404, 0.15603596],\n",
    "       [0.54792834, 0.45207166],\n",
    "       [0.99604068, 0.00395932],\n",
    "       [0.91956486, 0.08043514]])\n",
    "```\n"
   ]
  },
  {
   "cell_type": "code",
   "execution_count": 315,
   "metadata": {},
   "outputs": [
    {
     "data": {
      "text/plain": [
       "array([[0.85699649, 0.14300351],\n",
       "       [0.84396404, 0.15603596],\n",
       "       [0.54792834, 0.45207166],\n",
       "       [0.99604068, 0.00395932],\n",
       "       [0.91956486, 0.08043514]])"
      ]
     },
     "execution_count": 315,
     "metadata": {},
     "output_type": "execute_result"
    }
   ],
   "source": [
    "dsfile = 'adult_m50kv2.pickle'\n",
    "with open(dsfile, 'rb') as fh1:\n",
    "    adult50kp = pickle.load(fh1)\n",
    "\n",
    "X = adult50kp['x_subtrain'][0:5,]\n",
    "intercept = -1.5272275\n",
    "coefs = [0.25950781,  0.34876602,  2.31873776 , 0.78736064,  0.33992389,  0.08704992,\n",
    "  -0.43884149,  0.06617491, -0.86784172, -1.14138298, -0.0430126,   0.89943298,\n",
    "  -0.91920029,  0.11168262, -0.20330975, -0.45255335, -0.06209014, -1.1973518,\n",
    "  -0.32811911,  0.15581135,  0.23931349,  0.97771987, -0.80849467, -0.48881008,\n",
    "  -0.05761483, -0.61597391, -3.01467409,  0.67615709,  0.82684249,  0.45561501,\n",
    "   0.78515056,  0.10471469,  0.03536166, -0.18042056, -0.1981496,   0.89739856,\n",
    "   0.72133736,  0.19974049,  0.02431812, -0.54957554, -0.23797782, -0.19134163,\n",
    "  -0.08962951, -0.13136345, -0.14984098, -1.82034863,  0.22178759, -0.07676697,\n",
    "   1.5654472,   0.4801181,  -0.45519986, -2.16013255,  0.56715199, -1.36568413,\n",
    "  -0.26013768, -0.34160994,  0.30455591,  0.98946547,  0.83849021, -0.55428539,\n",
    "  -0.01931975,  0.02875685, -0.22012367,  0.165938,    0.24587743, -0.49584621,\n",
    "   0.27129184,  0.6632467,   1.08311314,  0.355352,    0.23657114, -0.55244221,\n",
    "  -0.29776791, -0.51492492, -1.08493494, -0.83233382,  0.61660701,  0.38077523,\n",
    "   0.34522743,  0.10493796,  0.16957889, -0.91882431, -0.07844291, -0.12138313,\n",
    "  -0.13627414,  0.437241,   -1.40284695,  0.43730002,  0.64656827, -0.12873123,\n",
    "   0.12363191,  0.30820418, -0.37598606, -0.2384826,  -1.86067539, -0.92314978,\n",
    "   2.17438484,  1.28232608, -1.05960696, -1.35676708, -0.99932736, -0.64333065]\n",
    "\n",
    "coefs = np.array(coefs)\n",
    "coefs = coefs.reshape((-1, 1))\n",
    "pred_prob(X, intercept, coefs)"
   ]
  },
  {
   "cell_type": "markdown",
   "metadata": {},
   "source": [
    "**第二小題**\n",
    "\n",
    "```python\n",
    "Xtrain = adult50kp['x_subtrain']\n",
    "ytrain = adult50kp['y_subtrain']\n",
    "lr_logloss(Xtrain, ytrain, intercept, coefs, 1000)\n",
    "```\n",
    "\n",
    "Output:\n",
    "```\n",
    "0.32275140356935755\n",
    "```"
   ]
  },
  {
   "cell_type": "code",
   "execution_count": 316,
   "metadata": {},
   "outputs": [
    {
     "name": "stdout",
     "output_type": "stream",
     "text": [
      "0.3227514035693576\n"
     ]
    }
   ],
   "source": [
    "Xtrain = adult50kp['x_subtrain']\n",
    "ytrain = adult50kp['y_subtrain']\n",
    "print(lr_logloss(Xtrain, ytrain, intercept, coefs, 1000))"
   ]
  },
  {
   "cell_type": "markdown",
   "metadata": {},
   "source": [
    "有關第二小題的 Sanity Check:\n",
    "\n",
    "我的實作所算出來的答案為 0.3227514035693576，與正確答案有一個非常微小的小數點後第16位的差異，我認為是因為實作的方式或硬體關係造成浮點數計算精度不同，但答案應是正確的。"
   ]
  },
  {
   "cell_type": "markdown",
   "metadata": {},
   "source": [
    "---\n",
    "\n",
    "### 第二題 [Chi-Squared Feature Selection] \n",
    "\n",
    "注意:\n",
    "* 本題應以Numpy實做，禁用現成的Chi-squared Feature Selection函數如sklearn.feature_selection.chi2()或scipy.stats.chisquare()或scipy.stats.chisquare()或scipy.stats.chi2_contingency()\n",
    "* sklearn.feature_selection.chi2() 實做的方式不是標準的Chi-squared test (cf. <https://github.com/scikit-learn/scikit-learn/blob/d5082d32d/sklearn/feature_selection/_univariate_selection.py#L195>)。本題要求你依照課程投影片的說明以標準的Chi-squared test方式實做。如果你的結果與 sklearn.feature_selection.chi2()是正常的。\n",
    "\n",
    "\n",
    "(30%) 在Univariate Feature Selection的情境下實做Chi-Squared Feature Selection Method。\n",
    "\n",
    "請使用下面Python函數定義:\n",
    "\n",
    "\n",
    "```python\n",
    "def my_chi2_fs(X, y):\n",
    "    # Compute chi-squared statistics for each columns in X\n",
    "    # X: pandas DataFrame; y: numpy array\n",
    "    # return: numpy array with chi-squared statistics  \n",
    "```\n",
    "\n",
    "為了方便批改與除錯，請將你的實做套用到mbav1.pickle的資料集中。資料集載入方式如下:\n",
    "\n",
    "```python\n",
    "import pandas as pd\n",
    "import pickle\n",
    "import numpy as np\n",
    "dsfile = \"mbav1.pickle\"\n",
    "with open(dsfile, \"rb\") as fh1:\n",
    "    mba = pickle.load(fh1)\n",
    "\n",
    "catcol = mba['x_train'].select_dtypes('object').columns\n",
    "print(\"categorical columns:\", catcol)\n",
    "x_traincat = mba['x_train'][catcol].copy()\n",
    "```\n",
    "\n",
    "實做好的my_chi2_fs()應該有下面的行為:\n",
    "\n",
    "```python\n",
    "chi2vec = my_chi2_fs(x_traincat, mba['y_train'])\n",
    "for i, acol in enumerate(x_traincat.columns):\n",
    "    print(f\"{acol:20s} {chi2vec[i]:.4f}\")\n",
    "```\n",
    "\n",
    "Output\n",
    "\n",
    "```\n",
    "gender               0.1106\n",
    "major                4.1315\n",
    "race                 0.9505\n",
    "work_industry        16.3957\n",
    "```\n"
   ]
  },
  {
   "cell_type": "code",
   "execution_count": 317,
   "metadata": {},
   "outputs": [
    {
     "name": "stdout",
     "output_type": "stream",
     "text": [
      "categorical columns: Index(['gender', 'major', 'race', 'work_industry'], dtype='object')\n"
     ]
    }
   ],
   "source": [
    "import pandas as pd # type: ignore\n",
    "\n",
    "dsfile = \"mbav1.pickle\"\n",
    "with open(dsfile, \"rb\") as fh1:\n",
    "    mba = pickle.load(fh1)\n",
    "\n",
    "catcol = mba['x_train'].select_dtypes('object').columns\n",
    "print(\"categorical columns:\", catcol)\n",
    "x_traincat = mba['x_train'][catcol].copy()"
   ]
  },
  {
   "cell_type": "code",
   "execution_count": 318,
   "metadata": {},
   "outputs": [
    {
     "data": {
      "text/html": [
       "<div>\n",
       "<style scoped>\n",
       "    .dataframe tbody tr th:only-of-type {\n",
       "        vertical-align: middle;\n",
       "    }\n",
       "\n",
       "    .dataframe tbody tr th {\n",
       "        vertical-align: top;\n",
       "    }\n",
       "\n",
       "    .dataframe thead th {\n",
       "        text-align: right;\n",
       "    }\n",
       "</style>\n",
       "<table border=\"1\" class=\"dataframe\">\n",
       "  <thead>\n",
       "    <tr style=\"text-align: right;\">\n",
       "      <th></th>\n",
       "      <th>gender</th>\n",
       "      <th>major</th>\n",
       "      <th>race</th>\n",
       "      <th>work_industry</th>\n",
       "    </tr>\n",
       "  </thead>\n",
       "  <tbody>\n",
       "    <tr>\n",
       "      <th>4099</th>\n",
       "      <td>Female</td>\n",
       "      <td>Business</td>\n",
       "      <td>Unknown</td>\n",
       "      <td>Nonprofit/Gov</td>\n",
       "    </tr>\n",
       "    <tr>\n",
       "      <th>1339</th>\n",
       "      <td>Female</td>\n",
       "      <td>Humanities</td>\n",
       "      <td>Asian</td>\n",
       "      <td>Investment Banking</td>\n",
       "    </tr>\n",
       "    <tr>\n",
       "      <th>5723</th>\n",
       "      <td>Female</td>\n",
       "      <td>STEM</td>\n",
       "      <td>White</td>\n",
       "      <td>PE/VC</td>\n",
       "    </tr>\n",
       "    <tr>\n",
       "      <th>789</th>\n",
       "      <td>Female</td>\n",
       "      <td>Humanities</td>\n",
       "      <td>Unknown</td>\n",
       "      <td>Nonprofit/Gov</td>\n",
       "    </tr>\n",
       "    <tr>\n",
       "      <th>3443</th>\n",
       "      <td>Female</td>\n",
       "      <td>Humanities</td>\n",
       "      <td>White</td>\n",
       "      <td>Consulting</td>\n",
       "    </tr>\n",
       "    <tr>\n",
       "      <th>...</th>\n",
       "      <td>...</td>\n",
       "      <td>...</td>\n",
       "      <td>...</td>\n",
       "      <td>...</td>\n",
       "    </tr>\n",
       "    <tr>\n",
       "      <th>318</th>\n",
       "      <td>Female</td>\n",
       "      <td>Humanities</td>\n",
       "      <td>White</td>\n",
       "      <td>Consulting</td>\n",
       "    </tr>\n",
       "    <tr>\n",
       "      <th>850</th>\n",
       "      <td>Male</td>\n",
       "      <td>STEM</td>\n",
       "      <td>White</td>\n",
       "      <td>Technology</td>\n",
       "    </tr>\n",
       "    <tr>\n",
       "      <th>5134</th>\n",
       "      <td>Male</td>\n",
       "      <td>Humanities</td>\n",
       "      <td>Hispanic</td>\n",
       "      <td>Consulting</td>\n",
       "    </tr>\n",
       "    <tr>\n",
       "      <th>2010</th>\n",
       "      <td>Male</td>\n",
       "      <td>STEM</td>\n",
       "      <td>White</td>\n",
       "      <td>Other</td>\n",
       "    </tr>\n",
       "    <tr>\n",
       "      <th>310</th>\n",
       "      <td>Male</td>\n",
       "      <td>Business</td>\n",
       "      <td>Other</td>\n",
       "      <td>Investment Management</td>\n",
       "    </tr>\n",
       "  </tbody>\n",
       "</table>\n",
       "<p>900 rows × 4 columns</p>\n",
       "</div>"
      ],
      "text/plain": [
       "      gender       major      race          work_industry\n",
       "4099  Female    Business   Unknown          Nonprofit/Gov\n",
       "1339  Female  Humanities     Asian     Investment Banking\n",
       "5723  Female        STEM     White                  PE/VC\n",
       "789   Female  Humanities   Unknown          Nonprofit/Gov\n",
       "3443  Female  Humanities     White             Consulting\n",
       "...      ...         ...       ...                    ...\n",
       "318   Female  Humanities     White             Consulting\n",
       "850     Male        STEM     White             Technology\n",
       "5134    Male  Humanities  Hispanic             Consulting\n",
       "2010    Male        STEM     White                  Other\n",
       "310     Male    Business     Other  Investment Management\n",
       "\n",
       "[900 rows x 4 columns]"
      ]
     },
     "execution_count": 318,
     "metadata": {},
     "output_type": "execute_result"
    }
   ],
   "source": [
    "x_traincat"
   ]
  },
  {
   "cell_type": "markdown",
   "metadata": {},
   "source": [
    "#### Problem 2\n",
    "\n",
    "Answer: 我根據投影片中公式，實作 Chi-Square Feature Selection。Output 如下：\n",
    "- gender               0.1106\n",
    "- major                4.1315\n",
    "- race                 0.9505\n",
    "- work_industry        16.3957\n",
    "\n",
    "與助教提供的 Sanity Check 符合。"
   ]
  },
  {
   "cell_type": "code",
   "execution_count": 319,
   "metadata": {},
   "outputs": [],
   "source": [
    "def my_chi2_fs(X, y):\n",
    "    # Compute chi-squared statistics for each columns in X\n",
    "    # X: pandas DataFrame; y: numpy array\n",
    "    # return: numpy array with chi-squared statistics\n",
    "    # don't use chi2 function from sklearn\n",
    "    chi2_stats = []\n",
    "    for i in X.columns:\n",
    "        observed = pd.crosstab(X[i], y)\n",
    "        observed = observed.values        \n",
    "        expected = np.zeros(observed.shape)\n",
    "        for j in range(observed.shape[0]):\n",
    "            for k in range(observed.shape[1]):\n",
    "                expected[j, k] = np.sum(observed[j, :]) * np.sum(observed[:, k]) / np.sum(observed)\n",
    "        chi2_stat = np.sum((observed - expected) ** 2 / expected)\n",
    "        chi2_stats.append(chi2_stat)\n",
    "    return np.array(chi2_stats)"
   ]
  },
  {
   "cell_type": "code",
   "execution_count": 320,
   "metadata": {},
   "outputs": [
    {
     "name": "stdout",
     "output_type": "stream",
     "text": [
      "gender               0.1106\n",
      "major                4.1315\n",
      "race                 0.9505\n",
      "work_industry        16.3957\n"
     ]
    }
   ],
   "source": [
    "chi2vec = my_chi2_fs(x_traincat, mba['y_train'])\n",
    "for i, acol in enumerate(x_traincat.columns):\n",
    "    print(f\"{acol:20s} {chi2vec[i]:.4f}\")"
   ]
  },
  {
   "attachments": {},
   "cell_type": "markdown",
   "metadata": {},
   "source": [
    "### 第三題 [Forward Feature Selection] \n",
    "\n",
    "注意: 本題禁用現成的Feature Selection Pipeline, 如sklearn.feature_selection.SelectFromModel()\n",
    "\n",
    "(25%) Forward Feature Selection是一個常見的Model-based Feature Selection Method。方法在概念上單純，但在實做上各異。我們在這裡練習一個使用Train-Valid-Test Split的Forward Feature Selection作法。這個作法使用Validation Set決定要把那個Feature加入。並在Validation Set的Performance不再進步時即停止整個程序。\n",
    "\n",
    "較詳細的作法如下:\n",
    "\n",
    "* Let 𝑀_0 denote the null model (no predictors); M_k = the model with k predictors (i.e., features); p = number of features\n",
    "* For Step k=0, 1, 2, …, 𝑝−1:\n",
    "    * Consider all p - k models that augment the predictors in 𝑀_k with one additional predictor. For each possibility; compute the prediction performance (F1 score) on the validation set and select one with the best performance.\n",
    "    * Stop if the best validation performance no longer increase.\n",
    "\n",
    "本題的資料集由pickle file載入 (A Dictionary):\n",
    "```python\n",
    "# load dataset\n",
    "dsfile = 'adult_m50kv2.pickle'\n",
    "with open(dsfile, 'rb') as fh1:\n",
    "    adult50kp = pickle.load(fh1)\n",
    "\n",
    "```\n",
    "\n",
    "* training set keys: x_subtrain, y_subtrain\n",
    "* validation set keys: x_subvalid, y_subvalid\n",
    "* test set keys: x_test, y_test\n",
    "\n",
    "為了方便比較，請使用下面的 LR Learner: sklearn.linear_model.LogisticRegression(solver = 'lbfgs', C= 1000, max_iter = 1000, tol=1e-5)\n",
    "\n",
    "(1) (5%) 總共有多少Features, 多少Training, Validation, Test Data?\n",
    "\n",
    "(2) (5%) 在Training Set上訓練，並在Validation Set與Test Set上計算F1 Score。\n",
    "\n",
    "(3) (15%) 使用上面的Forward Feature Selection作法，依序報告被選取的特徵與其Validation F1 Score與最後所有被選取的特徵的Test F1 Score。與(2)比較並討論。\n"
   ]
  },
  {
   "cell_type": "markdown",
   "metadata": {},
   "source": [
    "#### Problem 3-(1)\n",
    "(5%) 總共有多少Features, 多少Training, Validation, Test Data?\n",
    "\n",
    "Answer: 讀入資料後，我得到了以下數據：\n",
    "- Features: 102 個\n",
    "- Training data: 27000 筆\n",
    "- Validation data: 3162 筆\n",
    "- Test data: 15060 筆\n"
   ]
  },
  {
   "cell_type": "code",
   "execution_count": 321,
   "metadata": {},
   "outputs": [],
   "source": [
    "dsfile = 'adult_m50kv2.pickle'\n",
    "with open(dsfile, 'rb') as fh1:\n",
    "    adult50kp = pickle.load(fh1)"
   ]
  },
  {
   "cell_type": "code",
   "execution_count": 322,
   "metadata": {},
   "outputs": [],
   "source": [
    "feature_names = adult50kp['columnname']\n",
    "Xtrain = adult50kp['x_subtrain']\n",
    "ytrain = adult50kp['y_subtrain']\n",
    "Xvalid = adult50kp['x_subvalid']\n",
    "yvalid = adult50kp['y_subvalid']\n",
    "Xtest = adult50kp['x_test']\n",
    "ytest = adult50kp['y_test']"
   ]
  },
  {
   "cell_type": "code",
   "execution_count": 323,
   "metadata": {},
   "outputs": [
    {
     "name": "stdout",
     "output_type": "stream",
     "text": [
      "Features: 102\n",
      "Training Data: 27000\n",
      "Validation Data: 3162\n",
      "Test Data: 15060\n"
     ]
    }
   ],
   "source": [
    "#(1) (5%) 總共有多少Features, 多少Training, Validation, Test Data?\n",
    "print(f\"Features: {Xtrain.shape[1]}\")\n",
    "print(f\"Training Data: {Xtrain.shape[0]}\")\n",
    "print(f\"Validation Data: {Xvalid.shape[0]}\")\n",
    "print(f\"Test Data: {Xtest.shape[0]}\")"
   ]
  },
  {
   "cell_type": "markdown",
   "metadata": {},
   "source": [
    "#### Problem 3-(2)\n",
    "(5%) 在Training Set上訓練，並在Validation Set與Test Set上計算F1 Score。\n",
    "\n",
    "Answer: 我運用題目所規定的 Logistic Regression classifier，對 Training Set 進行訓練，並分別在 Validation Set 與 Test Set 預測得到以下的 F1 Score:\n",
    "- Validation Set: 0.6685\n",
    "- Test Set: 0.6619"
   ]
  },
  {
   "cell_type": "code",
   "execution_count": 324,
   "metadata": {},
   "outputs": [
    {
     "name": "stdout",
     "output_type": "stream",
     "text": [
      "F1 Score on Validation Set: 0.6685\n",
      "F1 Score on Test Set: 0.6619\n"
     ]
    }
   ],
   "source": [
    "#(2) (5%) 在Training Set上訓練，並在Validation Set與Test Set上計算F1 Score。\n",
    "from sklearn.metrics import f1_score # type: ignore\n",
    "\n",
    "clf1 = LogisticRegression(solver = 'lbfgs', C= 1000, max_iter = 1000, tol=1e-5)\n",
    "clf1.fit(Xtrain, ytrain)\n",
    "\n",
    "y_valid_pred = clf1.predict(Xvalid)\n",
    "y_test_pred = clf1.predict(Xtest)\n",
    "\n",
    "f1_valid = f1_score(yvalid, y_valid_pred)\n",
    "f1_test = f1_score(ytest, y_test_pred)\n",
    "\n",
    "print(f\"F1 Score on Validation Set: {f1_valid.round(4)}\")\n",
    "print(f\"F1 Score on Test Set: {f1_test.round(4)}\")"
   ]
  },
  {
   "cell_type": "markdown",
   "metadata": {},
   "source": [
    "#### Problem 3-(3)\n",
    "(15%) 使用上面的Forward Feature Selection作法，依序報告被選取的特徵與其Validation F1 Score與最後所有被選取的特徵的Test F1 Score。與(2)比較並討論。\n",
    "\n",
    "我在實作的時候發現：在某些階段，可能會有多個相同的 New Features 有能力帶來相同的 F1 Score 進步。因此我的實作方式是：在遇到可以選擇的 New Feature 超過一個時，就隨機選擇一個。因為好奇這樣的選法會不會造成最終 F1 Score 結果的不同，因此我跑了 20 次實驗，並且回報最好的 F1 Score 以及其所使用的 Features. 在以下的程式碼中，我已經將實驗次數改成 1，方便助教批改。"
   ]
  },
  {
   "cell_type": "markdown",
   "metadata": {},
   "source": [
    "我所得到最好的 F1 Score 是 **0.6736**，過程如下：\n",
    "\n",
    "- Stage 1: Adding feature educational-num, F1: 0.3205\n",
    "- Stage 2: Adding feature marital-status_Married-civ-spouse, F1: 0.5532\n",
    "- Stage 3: Adding feature capital-gain, F1: 0.6263\n",
    "- Stage 4: Adding feature occupation_Exec-managerial, F1: 0.6429\n",
    "- Stage 5: Adding feature capital-loss, F1: 0.6546\n",
    "- Stage 6: Adding feature occupation_Other-service, F1: 0.6573\n",
    "- Stage 7: Adding feature occupation_Machine-op-inspct, F1: 0.6611\n",
    "- Stage 8: Adding feature occupation_Adm-clerical, F1: 0.6644\n",
    "- Stage 9: Adding feature native-country_South, F1: 0.6653\n",
    "- Stage 10: Adding feature occupation_Tech-support, F1: 0.6662\n",
    "- Stage 11: Adding feature relationship_Own-child, F1: 0.6676\n",
    "- Stage 12: Adding feature native-country_Jamaica, F1: 0.668\n",
    "- Stage 13: Adding feature relationship_Other-relative, F1: 0.6685\n",
    "- Stage 14: Adding feature relationship_Unmarried, F1: 0.669\n",
    "- Stage 15: Adding feature education_Bachelors, F1: 0.6694\n",
    "- Stage 16: Adding feature workclass_Self-emp-inc, F1: 0.6703\n",
    "- Stage 17: Adding feature native-country_Nicaragua, F1: 0.6717\n",
    "- Stage 18: Adding feature native-country_Vietnam, F1: 0.6722\n",
    "- Stage 19: Adding feature gender_Female, F1: 0.6722\n",
    "- Stage 20: Adding feature native-country_Cuba, F1: 0.6731\n",
    "- Stage 21: Adding feature education_Doctorate, F1: 0.6736\n",
    "\n",
    "我所使用的所有 Features:\n",
    "```python\n",
    "['educational-num',\n",
    " 'marital-status_Married-civ-spouse',\n",
    " 'capital-gain',\n",
    " 'occupation_Exec-managerial',\n",
    " 'capital-loss',\n",
    " 'occupation_Other-service',\n",
    " 'occupation_Machine-op-inspct',\n",
    " 'occupation_Adm-clerical',\n",
    " 'native-country_South',\n",
    " 'occupation_Tech-support',\n",
    " 'relationship_Own-child',\n",
    " 'native-country_Jamaica',\n",
    " 'relationship_Other-relative',\n",
    " 'relationship_Unmarried',\n",
    " 'education_Bachelors',\n",
    " 'workclass_Self-emp-inc',\n",
    " 'native-country_Nicaragua',\n",
    " 'native-country_Vietnam',\n",
    " 'gender_Female',\n",
    " 'native-country_Cuba',\n",
    " 'education_Doctorate']\n",
    "```\n"
   ]
  },
  {
   "cell_type": "markdown",
   "metadata": {},
   "source": [
    "第 (2) 題結果如下：\n",
    "- F1 Score on Validation Set: 0.6685\n",
    "- F1 Score on Test Set: 0.6619\n",
    "\n",
    "在使用了 Feature Selection 後：\n",
    "\n",
    "- F1 Score on Test Set with Best Features: 0.6546\n",
    "- F1 Score on Validation Set with Best Features: 0.6736\n",
    "\n",
    "我們發現，在驗證集上，選擇的最佳特徵可能有助於提高模型的準確性。但是模型在測試集上的表現則下降，可能是因為失去了某些重要的特徵。我們可能需要探索不同的特徵選擇方法以提升最終的模型表現。"
   ]
  },
  {
   "cell_type": "code",
   "execution_count": 325,
   "metadata": {},
   "outputs": [
    {
     "name": "stdout",
     "output_type": "stream",
     "text": [
      "\n",
      "Running experiment 1\n",
      "Adding feature educational-num to selected features, F1: 0.32052483598875353\n",
      "Adding feature marital-status_Married-civ-spouse to selected features, F1: 0.553223388305847\n",
      "Adding feature capital-gain to selected features, F1: 0.6263498920086393\n",
      "Adding feature occupation_Exec-managerial to selected features, F1: 0.6429070580013976\n",
      "Adding feature capital-loss to selected features, F1: 0.6545708304256804\n",
      "Adding feature occupation_Other-service to selected features, F1: 0.657323055360897\n",
      "Adding feature occupation_Machine-op-inspct to selected features, F1: 0.6610526315789473\n",
      "Adding feature occupation_Adm-clerical to selected features, F1: 0.6643598615916955\n",
      "Adding feature native-country_South to selected features, F1: 0.6652806652806653\n",
      "Adding feature occupation_Tech-support to selected features, F1: 0.6662059433310297\n",
      "Adding feature relationship_Own-child to selected features, F1: 0.6675862068965517\n",
      "Adding feature native-country_Jamaica to selected features, F1: 0.6680469289164941\n",
      "Adding feature relationship_Other-relative to selected features, F1: 0.6685082872928176\n",
      "Adding feature relationship_Unmarried to selected features, F1: 0.6689702833448514\n",
      "Adding feature education_Bachelors to selected features, F1: 0.669432918395574\n",
      "Adding feature workclass_Self-emp-inc to selected features, F1: 0.6703372333103923\n",
      "Adding feature native-country_Nicaragua to selected features, F1: 0.6717136958017894\n",
      "Adding feature native-country_Vietnam to selected features, F1: 0.6721763085399449\n",
      "Adding feature gender_Female to selected features, F1: 0.6722222222222223\n",
      "Adding feature native-country_Cuba to selected features, F1: 0.6731436502428869\n",
      "Adding feature education_Doctorate to selected features, F1: 0.6736111111111112\n",
      "No improvement found; stopping feature selection.\n",
      "Selected Features for Experiment 1: [3, 97, 2, 21, 0, 25, 24, 19, 81, 30, 9, 69, 8, 10, 41, 91, 73, 86, 17, 52, 42]\n",
      "F1 Scores per Stage for Experiment 1: [np.float64(0.32052483598875353), np.float64(0.553223388305847), np.float64(0.6263498920086393), np.float64(0.6429070580013976), np.float64(0.6545708304256804), np.float64(0.657323055360897), np.float64(0.6610526315789473), np.float64(0.6643598615916955), np.float64(0.6652806652806653), np.float64(0.6662059433310297), np.float64(0.6675862068965517), np.float64(0.6680469289164941), np.float64(0.6685082872928176), np.float64(0.6689702833448514), np.float64(0.669432918395574), np.float64(0.6703372333103923), np.float64(0.6717136958017894), np.float64(0.6721763085399449), np.float64(0.6722222222222223), np.float64(0.6731436502428869), np.float64(0.6736111111111112)]\n",
      "\n",
      "Best Features Selected Across All Experiments: [3, 97, 2, 21, 0, 25, 24, 19, 81, 30, 9, 69, 8, 10, 41, 91, 73, 86, 17, 52, 42]\n",
      "Best Features Names: [np.str_('educational-num'), np.str_('marital-status_Married-civ-spouse'), np.str_('capital-gain'), np.str_('occupation_Exec-managerial'), np.str_('capital-loss'), np.str_('occupation_Other-service'), np.str_('occupation_Machine-op-inspct'), np.str_('occupation_Adm-clerical'), np.str_('native-country_South'), np.str_('occupation_Tech-support'), np.str_('relationship_Own-child'), np.str_('native-country_Jamaica'), np.str_('relationship_Other-relative'), np.str_('relationship_Unmarried'), np.str_('education_Bachelors'), np.str_('workclass_Self-emp-inc'), np.str_('native-country_Nicaragua'), np.str_('native-country_Vietnam'), np.str_('gender_Female'), np.str_('native-country_Cuba'), np.str_('education_Doctorate')]\n",
      "F1 Scores at Each Stage for the Best Experiment: [np.float64(0.32052483598875353), np.float64(0.553223388305847), np.float64(0.6263498920086393), np.float64(0.6429070580013976), np.float64(0.6545708304256804), np.float64(0.657323055360897), np.float64(0.6610526315789473), np.float64(0.6643598615916955), np.float64(0.6652806652806653), np.float64(0.6662059433310297), np.float64(0.6675862068965517), np.float64(0.6680469289164941), np.float64(0.6685082872928176), np.float64(0.6689702833448514), np.float64(0.669432918395574), np.float64(0.6703372333103923), np.float64(0.6717136958017894), np.float64(0.6721763085399449), np.float64(0.6722222222222223), np.float64(0.6731436502428869), np.float64(0.6736111111111112)]\n"
     ]
    }
   ],
   "source": [
    "# Assuming Xtrain, ytrain, Xvalid, yvalid, clf1, and feature_names are already defined\n",
    "best_experiment_results = {\n",
    "    \"best_features\": [],\n",
    "    \"best_features_names\": [],\n",
    "    \"f1_scores_per_stage\": []\n",
    "}\n",
    "highest_f1_achieved = -1\n",
    "\n",
    "# Run the experiment 20 times, change to 1 here.\n",
    "for experiment in range(1):\n",
    "    print(f\"\\nRunning experiment {experiment + 1}\")\n",
    "    \n",
    "    best_f1 = -1  # Start with a small value to avoid premature stopping\n",
    "    selected_features = []\n",
    "    f1_scores_stage = []  # Store F1 scores at each stage for the current experiment\n",
    "    \n",
    "    while True:\n",
    "        f1_scores = []\n",
    "        feature_candidates = []  # Track feature indices for this round\n",
    "        \n",
    "        # Test each feature not in selected_features\n",
    "        for i in range(Xtrain.shape[1]):\n",
    "            if i not in selected_features:\n",
    "                features = selected_features + [i]\n",
    "                clf1.fit(Xtrain[:, features], ytrain)\n",
    "                y_valid_pred = clf1.predict(Xvalid[:, features])\n",
    "                f1 = f1_score(yvalid, y_valid_pred)\n",
    "                f1_scores.append(f1)\n",
    "                feature_candidates.append(i)\n",
    "        \n",
    "        # Check if we have scores to compare\n",
    "        if not f1_scores:\n",
    "            print(\"No more features to evaluate.\")\n",
    "            break\n",
    "        \n",
    "        # Find the maximum F1 score and corresponding feature without sorting\n",
    "        max_f1 = max(f1_scores)\n",
    "        max_indices = [i for i, j in enumerate(f1_scores) if j == max_f1]\n",
    "        max_index = np.random.choice(max_indices)\n",
    "        best_feature = feature_candidates[max_index]\n",
    "\n",
    "        # Update selected features only if there is an improvement\n",
    "        if max_f1 > best_f1:\n",
    "            best_f1 = max_f1\n",
    "            selected_features.append(best_feature)\n",
    "            f1_scores_stage.append(max_f1)  # Store the F1 score of this stage\n",
    "            print(f\"Adding feature {feature_names[best_feature]} to selected features, F1: {max_f1}\")\n",
    "        else:\n",
    "            print(\"No improvement found; stopping feature selection.\")\n",
    "            break\n",
    "    \n",
    "    # Check if this experiment had the highest F1 score overall\n",
    "    if best_f1 > highest_f1_achieved:\n",
    "        highest_f1_achieved = best_f1\n",
    "        best_experiment_results[\"best_features\"] = selected_features.copy()\n",
    "        best_experiment_results[\"best_features_names\"] = [feature_names[i] for i in selected_features]\n",
    "        best_experiment_results[\"f1_scores_per_stage\"] = f1_scores_stage.copy()\n",
    "\n",
    "    print(f\"Selected Features for Experiment {experiment + 1}: {selected_features}\")\n",
    "    print(f\"F1 Scores per Stage for Experiment {experiment + 1}: {f1_scores_stage}\")\n",
    "\n",
    "# Final output of the best result across all experiments\n",
    "print(\"\\nBest Features Selected Across All Experiments:\", best_experiment_results[\"best_features\"])\n",
    "print(\"Best Features Names:\", best_experiment_results[\"best_features_names\"])\n",
    "print(\"F1 Scores at Each Stage for the Best Experiment:\", best_experiment_results[\"f1_scores_per_stage\"])\n"
   ]
  },
  {
   "cell_type": "code",
   "execution_count": 326,
   "metadata": {},
   "outputs": [
    {
     "name": "stdout",
     "output_type": "stream",
     "text": [
      "F1 Score on Test Set with Best Features: 0.6546\n",
      "F1 Score on Validation Set with Best Features: 0.6736\n"
     ]
    }
   ],
   "source": [
    "#use the best features to train the model\n",
    "best_features = best_experiment_results[\"best_features\"]\n",
    "clf1.fit(Xtrain[:, best_features], ytrain)\n",
    "y_test_pred = clf1.predict(Xtest[:, best_features])\n",
    "f1_test = f1_score(ytest, y_test_pred)\n",
    "print(f\"F1 Score on Test Set with Best Features: {f1_test.round(4)}\")\n",
    "\n",
    "y_valid_pred = clf1.predict(Xvalid[:, best_features])\n",
    "f1_valid = f1_score(yvalid, y_valid_pred)\n",
    "print(f\"F1 Score on Validation Set with Best Features: {f1_valid.round(4)}\")"
   ]
  },
  {
   "cell_type": "code",
   "execution_count": 327,
   "metadata": {},
   "outputs": [
    {
     "data": {
      "text/plain": [
       "['educational-num',\n",
       " 'marital-status_Married-civ-spouse',\n",
       " 'capital-gain',\n",
       " 'occupation_Exec-managerial',\n",
       " 'capital-loss',\n",
       " 'occupation_Other-service',\n",
       " 'occupation_Machine-op-inspct',\n",
       " 'occupation_Adm-clerical',\n",
       " 'native-country_South',\n",
       " 'occupation_Tech-support',\n",
       " 'relationship_Own-child',\n",
       " 'native-country_Jamaica',\n",
       " 'relationship_Other-relative',\n",
       " 'relationship_Unmarried',\n",
       " 'education_Bachelors',\n",
       " 'workclass_Self-emp-inc',\n",
       " 'native-country_Nicaragua',\n",
       " 'native-country_Vietnam',\n",
       " 'gender_Female',\n",
       " 'native-country_Cuba',\n",
       " 'education_Doctorate']"
      ]
     },
     "execution_count": 327,
     "metadata": {},
     "output_type": "execute_result"
    }
   ],
   "source": [
    "[str(i) for i in best_experiment_results[\"best_features_names\"]]"
   ]
  },
  {
   "cell_type": "code",
   "execution_count": 328,
   "metadata": {},
   "outputs": [
    {
     "name": "stdout",
     "output_type": "stream",
     "text": [
      "Stage 1: Adding feature educational-num, F1: 0.3205\n",
      "Stage 2: Adding feature marital-status_Married-civ-spouse, F1: 0.5532\n",
      "Stage 3: Adding feature capital-gain, F1: 0.6263\n",
      "Stage 4: Adding feature occupation_Exec-managerial, F1: 0.6429\n",
      "Stage 5: Adding feature capital-loss, F1: 0.6546\n",
      "Stage 6: Adding feature occupation_Other-service, F1: 0.6573\n",
      "Stage 7: Adding feature occupation_Machine-op-inspct, F1: 0.6611\n",
      "Stage 8: Adding feature occupation_Adm-clerical, F1: 0.6644\n",
      "Stage 9: Adding feature native-country_South, F1: 0.6653\n",
      "Stage 10: Adding feature occupation_Tech-support, F1: 0.6662\n",
      "Stage 11: Adding feature relationship_Own-child, F1: 0.6676\n",
      "Stage 12: Adding feature native-country_Jamaica, F1: 0.668\n",
      "Stage 13: Adding feature relationship_Other-relative, F1: 0.6685\n",
      "Stage 14: Adding feature relationship_Unmarried, F1: 0.669\n",
      "Stage 15: Adding feature education_Bachelors, F1: 0.6694\n",
      "Stage 16: Adding feature workclass_Self-emp-inc, F1: 0.6703\n",
      "Stage 17: Adding feature native-country_Nicaragua, F1: 0.6717\n",
      "Stage 18: Adding feature native-country_Vietnam, F1: 0.6722\n",
      "Stage 19: Adding feature gender_Female, F1: 0.6722\n",
      "Stage 20: Adding feature native-country_Cuba, F1: 0.6731\n",
      "Stage 21: Adding feature education_Doctorate, F1: 0.6736\n"
     ]
    }
   ],
   "source": [
    "for i in range(len(best_experiment_results[\"best_features\"])):\n",
    "    print(f\"Stage {i + 1}: Adding feature {best_experiment_results['best_features_names'][i]}, F1: {best_experiment_results['f1_scores_per_stage'][i].round(4)}\")"
   ]
  }
 ],
 "metadata": {
  "kernelspec": {
   "display_name": "base",
   "language": "python",
   "name": "python3"
  },
  "language_info": {
   "codemirror_mode": {
    "name": "ipython",
    "version": 3
   },
   "file_extension": ".py",
   "mimetype": "text/x-python",
   "name": "python",
   "nbconvert_exporter": "python",
   "pygments_lexer": "ipython3",
   "version": "3.12.2"
  }
 },
 "nbformat": 4,
 "nbformat_minor": 4
}
